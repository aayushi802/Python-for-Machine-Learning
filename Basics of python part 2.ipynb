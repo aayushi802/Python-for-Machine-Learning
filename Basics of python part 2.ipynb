{
 "cells": [
  {
   "cell_type": "markdown",
   "metadata": {},
   "source": [
    "# Types of Operator:\n"
   ]
  },
  {
   "cell_type": "markdown",
   "metadata": {},
   "source": [
    "# Arithmetic Operators"
   ]
  },
  {
   "cell_type": "code",
   "execution_count": 40,
   "metadata": {},
   "outputs": [
    {
     "name": "stdout",
     "output_type": "stream",
     "text": [
      "addition: 6\n",
      "substraction: -2\n",
      "Multiplication: 8\n",
      "Division: 0.5\n",
      "Modulus: 2\n",
      "Exponent: 16\n",
      "Floor Division: 0\n"
     ]
    }
   ],
   "source": [
    "a = 2\n",
    "b = 4\n",
    "print(f\"addition: {a+b}\")\n",
    "print(f\"substraction: {a-b}\")\n",
    "print(f\"Multiplication: {a*b}\")\n",
    "print(f\"Division: {a/b}\")\n",
    "print(f\"Modulus: {a%b}\")\n",
    "print(f\"Exponent: {a**b}\")\n",
    "print(f\"Floor Division: {a//b}\")"
   ]
  },
  {
   "cell_type": "markdown",
   "metadata": {},
   "source": [
    "# Comparison (Relational) Operators"
   ]
  },
  {
   "cell_type": "code",
   "execution_count": 46,
   "metadata": {},
   "outputs": [
    {
     "name": "stdout",
     "output_type": "stream",
     "text": [
      "equal\n"
     ]
    }
   ],
   "source": [
    "a,b = 12,12\n",
    "if a == b:\n",
    "    print(\"equal\")"
   ]
  },
  {
   "cell_type": "code",
   "execution_count": 48,
   "metadata": {},
   "outputs": [
    {
     "name": "stdout",
     "output_type": "stream",
     "text": [
      "unequal\n"
     ]
    }
   ],
   "source": [
    "a,b = 12,15\n",
    "if a != b:\n",
    "    print(\"unequal\")\n",
    "else:\n",
    "    print(\"equal\")"
   ]
  },
  {
   "cell_type": "code",
   "execution_count": 56,
   "metadata": {},
   "outputs": [
    {
     "name": "stdout",
     "output_type": "stream",
     "text": [
      "b is greater and equal\n"
     ]
    }
   ],
   "source": [
    "a,b = 12,15\n",
    "if a >= b: #change to <= also\n",
    "    print(\"a is greater\")\n",
    "else:\n",
    "    print(\"b is greater and equal\")"
   ]
  },
  {
   "cell_type": "code",
   "execution_count": 55,
   "metadata": {},
   "outputs": [
    {
     "name": "stdout",
     "output_type": "stream",
     "text": [
      "b is greater\n"
     ]
    }
   ],
   "source": [
    "a,b = 12,15\n",
    "if a > b: #change to < also\n",
    "    print(\"a is greater\")\n",
    "else:\n",
    "    print(\"b is greater\")"
   ]
  },
  {
   "cell_type": "markdown",
   "metadata": {},
   "source": [
    "# Logical Operators"
   ]
  },
  {
   "cell_type": "code",
   "execution_count": 68,
   "metadata": {},
   "outputs": [
    {
     "name": "stdout",
     "output_type": "stream",
     "text": [
      "a or b is True or both are false\n"
     ]
    }
   ],
   "source": [
    "a,b = False,False  #change Flase to True\n",
    "if a and b:  #change and to &\n",
    "    print(\" a and b are True\")\n",
    "else:\n",
    "    print(\"a or b is True or both are false\")"
   ]
  },
  {
   "cell_type": "code",
   "execution_count": 70,
   "metadata": {},
   "outputs": [
    {
     "name": "stdout",
     "output_type": "stream",
     "text": [
      " a and b both are false\n"
     ]
    }
   ],
   "source": [
    "if a or b: #chnage or to |\n",
    "    print(\"a or b is True\")\n",
    "else:\n",
    "    print(\" a and b both are false\")"
   ]
  },
  {
   "cell_type": "markdown",
   "metadata": {},
   "source": [
    "# Membership Operators"
   ]
  },
  {
   "cell_type": "code",
   "execution_count": 1,
   "metadata": {},
   "outputs": [
    {
     "name": "stdout",
     "output_type": "stream",
     "text": [
      "present\n"
     ]
    }
   ],
   "source": [
    "li  = [\"raj\", \"simran\", \"ashish\",\"adesh\",\"gaurav\"]\n",
    "if \"raj\" in li:\n",
    "    print(\"present\")"
   ]
  },
  {
   "cell_type": "code",
   "execution_count": 2,
   "metadata": {},
   "outputs": [
    {
     "name": "stdout",
     "output_type": "stream",
     "text": [
      "absent\n"
     ]
    }
   ],
   "source": [
    "if \"surbhi\" not in li:\n",
    "    print(\"absent\")"
   ]
  },
  {
   "cell_type": "markdown",
   "metadata": {},
   "source": [
    "# LOOPS and Control Structure"
   ]
  },
  {
   "cell_type": "markdown",
   "metadata": {},
   "source": [
    "while, for lopps and  continue, pass, break "
   ]
  },
  {
   "cell_type": "code",
   "execution_count": 75,
   "metadata": {},
   "outputs": [
    {
     "name": "stdout",
     "output_type": "stream",
     "text": [
      "I love python\n"
     ]
    }
   ],
   "source": [
    "#say I love python 20 times\n",
    "print(\"I love python\")"
   ]
  },
  {
   "cell_type": "markdown",
   "metadata": {},
   "source": [
    "# For lopps"
   ]
  },
  {
   "cell_type": "code",
   "execution_count": 77,
   "metadata": {},
   "outputs": [
    {
     "name": "stdout",
     "output_type": "stream",
     "text": [
      "0: I love python\n",
      "1: I love python\n",
      "2: I love python\n",
      "3: I love python\n",
      "4: I love python\n",
      "5: I love python\n",
      "6: I love python\n",
      "7: I love python\n",
      "8: I love python\n",
      "9: I love python\n",
      "10: I love python\n",
      "11: I love python\n",
      "12: I love python\n",
      "13: I love python\n",
      "14: I love python\n",
      "15: I love python\n",
      "16: I love python\n",
      "17: I love python\n",
      "18: I love python\n",
      "19: I love python\n"
     ]
    }
   ],
   "source": [
    "for i in range(20):\n",
    "    print(f\"{i}: I love python\")"
   ]
  },
  {
   "cell_type": "markdown",
   "metadata": {},
   "source": [
    "# while"
   ]
  },
  {
   "cell_type": "code",
   "execution_count": 81,
   "metadata": {},
   "outputs": [
    {
     "name": "stdout",
     "output_type": "stream",
     "text": [
      "0: I love python\n",
      "1: I love python\n",
      "2: I love python\n",
      "3: I love python\n",
      "4: I love python\n",
      "5: I love python\n",
      "6: I love python\n",
      "7: I love python\n",
      "8: I love python\n",
      "9: I love python\n",
      "10: I love python\n",
      "11: I love python\n",
      "12: I love python\n",
      "13: I love python\n",
      "14: I love python\n",
      "15: I love python\n",
      "16: I love python\n",
      "17: I love python\n",
      "18: I love python\n",
      "19: I love python\n"
     ]
    }
   ],
   "source": [
    "i = 0\n",
    "while(i<20):\n",
    "    print(f\"{i}: I love python\")\n",
    "    i += 1"
   ]
  },
  {
   "cell_type": "markdown",
   "metadata": {},
   "source": [
    "# Break "
   ]
  },
  {
   "cell_type": "code",
   "execution_count": 82,
   "metadata": {},
   "outputs": [
    {
     "name": "stdout",
     "output_type": "stream",
     "text": [
      "0: I love python\n",
      "1: I love python\n",
      "2: I love python\n",
      "3: I love python\n",
      "4: I love python\n",
      "5: I love python\n",
      "6: I love python\n",
      "7: I love python\n",
      "8: I love python\n",
      "9: I love python\n",
      "10: I love python\n"
     ]
    }
   ],
   "source": [
    "for i in range(20):\n",
    "    print(f\"{i}: I love python\")\n",
    "    if i == 10:\n",
    "        break"
   ]
  },
  {
   "cell_type": "markdown",
   "metadata": {},
   "source": [
    "# Pass"
   ]
  },
  {
   "cell_type": "code",
   "execution_count": 83,
   "metadata": {},
   "outputs": [
    {
     "name": "stdout",
     "output_type": "stream",
     "text": [
      "0: I love python\n",
      "1: I love python\n",
      "2: I love python\n",
      "3: I love python\n",
      "4: I love python\n",
      "5: I love python\n",
      "6: I love python\n",
      "7: I love python\n",
      "8: I love python\n",
      "9: I love python\n",
      "10: I love python\n",
      "11: I love python\n",
      "12: I love python\n",
      "13: I love python\n",
      "14: I love python\n",
      "15: I love python\n",
      "16: I love python\n",
      "17: I love python\n",
      "18: I love python\n",
      "19: I love python\n"
     ]
    }
   ],
   "source": [
    "for i in range(20):\n",
    "    print(f\"{i}: I love python\")\n",
    "    if i == 10:\n",
    "        pass"
   ]
  },
  {
   "cell_type": "markdown",
   "metadata": {},
   "source": [
    "# Continue"
   ]
  },
  {
   "cell_type": "code",
   "execution_count": 3,
   "metadata": {},
   "outputs": [
    {
     "name": "stdout",
     "output_type": "stream",
     "text": [
      "0: I love python\n",
      "1: I love python\n",
      "2: I love python\n",
      "3: I love python\n",
      "4: I love python\n",
      "5: I love python\n",
      "6: I love python\n",
      "7: I love python\n",
      "8: I love python\n",
      "9: I love python\n",
      "10: I love python\n",
      "10th anversory\n",
      "11: I love python\n",
      "12: I love python\n",
      "13: I love python\n",
      "14: I love python\n",
      "15: I love python\n",
      "16: I love python\n",
      "17: I love python\n",
      "18: I love python\n",
      "19: I love python\n"
     ]
    }
   ],
   "source": [
    "for i in range(20):\n",
    "    print(f\"{i}: I love python\")\n",
    "    if i == 10:\n",
    "        print(\"10th anversory\")\n",
    "    else:\n",
    "        continue"
   ]
  },
  {
   "cell_type": "markdown",
   "metadata": {},
   "source": [
    "# Nested LOOP"
   ]
  },
  {
   "cell_type": "code",
   "execution_count": 91,
   "metadata": {},
   "outputs": [
    {
     "name": "stdout",
     "output_type": "stream",
     "text": [
      "1 \n",
      "\n",
      "2 2 \n",
      "\n",
      "3 3 3 \n",
      "\n",
      "4 4 4 4 \n",
      "\n"
     ]
    }
   ],
   "source": [
    "for i in range(1, 5): \n",
    "    for j in range(i): \n",
    "         print(i, end=' ') \n",
    "    print(\"\\n\")\n",
    "    "
   ]
  },
  {
   "cell_type": "markdown",
   "metadata": {},
   "source": [
    "# Function"
   ]
  },
  {
   "cell_type": "code",
   "execution_count": 96,
   "metadata": {},
   "outputs": [],
   "source": [
    "def print_hello(x):\n",
    "    for i in range(x):\n",
    "        print(f\"{i}: I love python\")"
   ]
  },
  {
   "cell_type": "code",
   "execution_count": 97,
   "metadata": {},
   "outputs": [
    {
     "name": "stdout",
     "output_type": "stream",
     "text": [
      "0: I love python\n",
      "1: I love python\n",
      "2: I love python\n",
      "3: I love python\n",
      "4: I love python\n",
      "5: I love python\n",
      "6: I love python\n",
      "7: I love python\n",
      "8: I love python\n",
      "9: I love python\n"
     ]
    }
   ],
   "source": [
    "print_hello(10)"
   ]
  },
  {
   "cell_type": "code",
   "execution_count": 98,
   "metadata": {},
   "outputs": [],
   "source": [
    "def calculate_square(x):\n",
    "    x = x**2\n",
    "    return x"
   ]
  },
  {
   "cell_type": "code",
   "execution_count": 100,
   "metadata": {},
   "outputs": [
    {
     "data": {
      "text/plain": [
       "100"
      ]
     },
     "execution_count": 100,
     "metadata": {},
     "output_type": "execute_result"
    }
   ],
   "source": [
    "calculate_square(10) "
   ]
  }
 ],
 "metadata": {
  "kernelspec": {
   "display_name": "Python 3",
   "language": "python",
   "name": "python3"
  },
  "language_info": {
   "codemirror_mode": {
    "name": "ipython",
    "version": 3
   },
   "file_extension": ".py",
   "mimetype": "text/x-python",
   "name": "python",
   "nbconvert_exporter": "python",
   "pygments_lexer": "ipython3",
   "version": "3.7.3"
  }
 },
 "nbformat": 4,
 "nbformat_minor": 2
}
