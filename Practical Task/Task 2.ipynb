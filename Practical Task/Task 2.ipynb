{
 "cells": [
  {
   "cell_type": "markdown",
   "metadata": {},
   "source": [
    "Given a m * n matrix of distinct numbers, return all lucky numbers in the matrix in any order.\n",
    "A lucky number is an element of the matrix such that it is the minimum element in its row and maximum in its column.\n"
   ]
  },
  {
   "cell_type": "markdown",
   "metadata": {},
   "source": [
    "Input: matrix = [[3,7,8],[9,11,13],[15,16,17]]\n",
    "Output: [15]\n",
    "Explanation: 15 is the only lucky number since it is the minimum in its row and the maximum in its column\n"
   ]
  },
  {
   "cell_type": "code",
   "execution_count": 1,
   "metadata": {},
   "outputs": [
    {
     "name": "stdout",
     "output_type": "stream",
     "text": [
      "15\n"
     ]
    }
   ],
   "source": [
    "matrix = [[3,7,8],[9,11,33],[15,16,17]]\n",
    "arrayForMinimum = []\n",
    "for i in range(len(matrix)):\n",
    "    minimum = min(matrix[i])\n",
    "    arrayForMinimum.append(minimum)\n",
    "maxElement = max(arrayForMinimum)\n",
    "print(maxElement)"
   ]
  },
  {
   "cell_type": "markdown",
   "metadata": {},
   "source": [
    "Input: matrix = [[1,10,4,2],[9,3,8,7],[15,16,17,12]]\n",
    "Output: [12]\n",
    "Explanation: 12 is the only lucky number since it is the minimum in its row and the maximum in its column.\n"
   ]
  },
  {
   "cell_type": "code",
   "execution_count": 2,
   "metadata": {},
   "outputs": [
    {
     "name": "stdout",
     "output_type": "stream",
     "text": [
      "12\n"
     ]
    }
   ],
   "source": [
    "matrix = [[1,10,4,2],[9,3,8,7],[15,16,17,12]]\n",
    "arrayForMinimum = []\n",
    "for i in range(len(matrix)):\n",
    "    minimum = min(matrix[i])\n",
    "    arrayForMinimum.append(minimum)\n",
    "maxElement = max(arrayForMinimum)\n",
    "print(maxElement)"
   ]
  },
  {
   "cell_type": "markdown",
   "metadata": {},
   "source": [
    "Input: matrix = [[7,8],[1,2]]\n",
    "Output: [7]\n"
   ]
  },
  {
   "cell_type": "code",
   "execution_count": 3,
   "metadata": {},
   "outputs": [
    {
     "name": "stdout",
     "output_type": "stream",
     "text": [
      "7\n"
     ]
    }
   ],
   "source": [
    "matrix = [[7,8],[1,2]] \n",
    "arrayForMinimum = []\n",
    "for i in range(len(matrix)):\n",
    "    minimum = min(matrix[i])\n",
    "    arrayForMinimum.append(minimum)\n",
    "maxElement = max(arrayForMinimum)\n",
    "print(maxElement)"
   ]
  }
 ],
 "metadata": {
  "kernelspec": {
   "display_name": "Python 3",
   "language": "python",
   "name": "python3"
  },
  "language_info": {
   "codemirror_mode": {
    "name": "ipython",
    "version": 3
   },
   "file_extension": ".py",
   "mimetype": "text/x-python",
   "name": "python",
   "nbconvert_exporter": "python",
   "pygments_lexer": "ipython3",
   "version": "3.7.3"
  }
 },
 "nbformat": 4,
 "nbformat_minor": 2
}
